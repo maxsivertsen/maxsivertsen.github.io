{
 "cells": [
  {
   "cell_type": "code",
   "execution_count": null,
   "metadata": {},
   "outputs": [],
   "source": [
    "# Hide - Connects voila to current notebook\n",
    "#!jupyter serverextension enable --sys-prefix voila\n",
    "\n",
    "# Voila runs jpnb but hides the code cells and only displays the output (including the ipywidgets) as well as the markdown cells."
   ]
  },
  {
   "cell_type": "code",
   "execution_count": null,
   "metadata": {},
   "outputs": [],
   "source": [
    "#import fastbook\n",
    "#fastbook.setup_book()\n",
    "from fastbook import *\n",
    "from fastai.vision.widgets import *"
   ]
  },
  {
   "cell_type": "code",
   "execution_count": null,
   "metadata": {},
   "outputs": [],
   "source": [
    "# Load the model\n",
    "path = Path()\n",
    "path.ls(file_exts='.pkl')\n",
    "\n",
    "learn_inf = load_learner(path/'export.pkl')"
   ]
  },
  {
   "cell_type": "code",
   "execution_count": null,
   "metadata": {},
   "outputs": [],
   "source": [
    "# Create a button widget\n",
    "btn_upload = widgets.FileUpload()\n",
    "btn_upload\n",
    "\n",
    "# Create a clear_output widget\n",
    "out_pl = widgets.Output()\n",
    "out_pl.clear_output()\n",
    "\n",
    "# Create a label widget\n",
    "lbl_pred = widgets.Label()\n",
    "\n",
    "# Create a run button widget\n",
    "btn_run = widgets.Button(description='Classify')\n",
    "btn_run\n",
    "\n",
    "# Function to classify the image\n",
    "def on_click_classify(change):\n",
    "    img = PILImage.create(btn_upload.data[-1])\n",
    "    out_pl.clear_output()\n",
    "    with out_pl: display(img.to_thumb(128,128))\n",
    "    pred,pred_idx,probs = learn_inf.predict(img)\n",
    "    lbl_pred.value = f'Prediction: {pred}; Probability: {probs[pred_idx]:.04f}'\n",
    "\n",
    "btn_run.on_click(on_click_classify)\n",
    "\n",
    "# Create a Vertical Box (VBox) to hold the widgets\n",
    "btn_upload = widgets.FileUpload()\n",
    "VBox([widgets.Label('Select your forest!'),\n",
    "      btn_upload, btn_run, out_pl, lbl_pred])"
   ]
  }
 ],
 "metadata": {
  "kernelspec": {
   "display_name": "Python 3",
   "language": "python",
   "name": "python3"
  },
  "language_info": {
   "codemirror_mode": {
    "name": "ipython",
    "version": 3
   },
   "file_extension": ".py",
   "mimetype": "text/x-python",
   "name": "python",
   "nbconvert_exporter": "python",
   "pygments_lexer": "ipython3",
   "version": "3.10.12"
  }
 },
 "nbformat": 4,
 "nbformat_minor": 2
}
