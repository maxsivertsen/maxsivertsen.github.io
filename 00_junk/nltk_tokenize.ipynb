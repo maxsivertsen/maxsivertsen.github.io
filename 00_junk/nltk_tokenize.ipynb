{
 "cells": [
  {
   "cell_type": "code",
   "execution_count": 17,
   "metadata": {},
   "outputs": [
    {
     "name": "stdout",
     "output_type": "stream",
     "text": [
      "Tim Walz’s 2006 campaign falsely described details about his arrest for DWI in 1995 | CNN Politics\n"
     ]
    }
   ],
   "source": [
    "import nltk.corpus\n",
    "from nltk.text import Text\n",
    "import json\n",
    "from nltk.tokenize import word_tokenize, sent_tokenize\n",
    "\n",
    "cnn_articles = json.load(open('/home/empathyforgiveness/max_website/max-website/my_projects/cnn_fox_articles/pickle_dicts/cnn_articles.json'))\n",
    "\n",
    "a = list(cnn_articles.keys())\n",
    "print(a[0])\n",
    "\n",
    "result = cnn_articles[a[0]]\n",
    "word_tokens = word_tokenize(result)\n",
    "\n"
   ]
  },
  {
   "cell_type": "markdown",
   "metadata": {},
   "source": [
    "### 1. Write a Python NLTK program to split the text sentence/paragraph into a list of words. "
   ]
  },
  {
   "cell_type": "code",
   "execution_count": 18,
   "metadata": {},
   "outputs": [],
   "source": [
    "word_tokens = word_tokenize(result)\n",
    "sentence_tokens = sent_tokenize(result)"
   ]
  },
  {
   "cell_type": "markdown",
   "metadata": {},
   "source": [
    "### 2. Write a Python NLTK program to tokenize sentences in languages other than English. "
   ]
  },
  {
   "cell_type": "code",
   "execution_count": 20,
   "metadata": {},
   "outputs": [],
   "source": [
    "sent_tokens = sent_tokenize(result)"
   ]
  },
  {
   "cell_type": "markdown",
   "metadata": {},
   "source": [
    "### 3. Write a Python NLTK program to create a list of words from a given string. "
   ]
  },
  {
   "cell_type": "code",
   "execution_count": 28,
   "metadata": {},
   "outputs": [
    {
     "name": "stdout",
     "output_type": "stream",
     "text": [
      "['The', 'dog', 'runs', 'fast', '.', 'The', 'cat', 'runs', 'faster', '.', 'The', 'dog', 'is', \"n't\", 'faster', 'than', 'the', 'cat', '.']\n"
     ]
    }
   ],
   "source": [
    "test_sent = 'The dog runs fast. The cat runs faster. The dog isn\\'t faster than the cat.'\n",
    "\n",
    "def word_list(sent):\n",
    "    word_tokens = word_tokenize(sent,)\n",
    "    return word_tokens\n",
    "\n",
    "abc = word_list(test_sent)\n",
    "print(abc)"
   ]
  },
  {
   "cell_type": "markdown",
   "metadata": {},
   "source": [
    "### 4. Write a Python NLTK program to split all punctuation into separate tokens. "
   ]
  },
  {
   "cell_type": "code",
   "execution_count": 29,
   "metadata": {},
   "outputs": [
    {
     "name": "stdout",
     "output_type": "stream",
     "text": [
      "['The', 'dog', 'runs', 'fast', '.', 'The', 'cat', 'runs', 'faster', '.', 'The', 'dog', 'isn', \"'\", 't', 'faster', 'than', 'the', 'cat', '.']\n"
     ]
    }
   ],
   "source": [
    "from nltk.tokenize import WordPunctTokenizer\n",
    "\n",
    "abc = WordPunctTokenizer().tokenize(test_sent)\n",
    "print(abc)"
   ]
  },
  {
   "cell_type": "markdown",
   "metadata": {},
   "source": [
    "### 5. Write a Python NLTK program to tokenize words, sentence wise. "
   ]
  },
  {
   "cell_type": "code",
   "execution_count": 31,
   "metadata": {},
   "outputs": [
    {
     "name": "stdout",
     "output_type": "stream",
     "text": [
      "['The', 'dog', 'runs', 'fast', '.']\n",
      "['The', 'cat', 'runs', 'faster', '.']\n",
      "['The', 'dog', 'is', \"n't\", 'faster', 'than', 'the', 'cat', '.']\n"
     ]
    }
   ],
   "source": [
    "def single_sent_tokenize(text):\n",
    "    sent_tokens = sent_tokenize(text)\n",
    "    for s in sent_tokens:\n",
    "        print(word_tokenize(s))\n",
    "\n",
    "single_sent_tokenize(test_sent)"
   ]
  },
  {
   "cell_type": "code",
   "execution_count": 33,
   "metadata": {},
   "outputs": [
    {
     "name": "stdout",
     "output_type": "stream",
     "text": [
      "['The', 'dog', 'runs', 'fast', '.']\n",
      "['The', 'cat', 'runs', 'faster', '.']\n",
      "['The', 'dog', 'is', \"n't\", 'faster', 'than', 'the', 'cat', '.']\n"
     ]
    }
   ],
   "source": [
    "abc = [word_tokenize(s) for s in sent_tokenize(test_sent)]\n",
    "for s in abc:\n",
    "    print(s)"
   ]
  },
  {
   "cell_type": "markdown",
   "metadata": {},
   "source": [
    "### 6. Write a Python NLTK program to tokenize a twitter text. "
   ]
  },
  {
   "cell_type": "code",
   "execution_count": 34,
   "metadata": {},
   "outputs": [
    {
     "name": "stdout",
     "output_type": "stream",
     "text": [
      "['NoSQL', 'introduction', '-', 'w3resource', 'http://bit.ly/1ngHC5F', '#nosql', '#database', '#webdev']\n"
     ]
    }
   ],
   "source": [
    "from nltk.tokenize import TweetTokenizer\n",
    "\n",
    "tweet_text = \"NoSQL introduction - w3resource http://bit.ly/1ngHC5F  #nosql #database #webdev\"\n",
    "\n",
    "tknzr = TweetTokenizer()\n",
    "abc = tknzr.tokenize(tweet_text)\n",
    "print(abc)\n"
   ]
  },
  {
   "cell_type": "markdown",
   "metadata": {},
   "source": [
    "### 7. Write a Python NLTK program to remove Twitter username handles from a given twitter text. "
   ]
  },
  {
   "cell_type": "code",
   "execution_count": 35,
   "metadata": {},
   "outputs": [
    {
     "name": "stdout",
     "output_type": "stream",
     "text": [
      "['NoSQL', 'introduction', '-', 'w3resource', 'http://bit.ly/1ngHC5F', '#nosql', '#database', '#webdev']\n"
     ]
    }
   ],
   "source": [
    "from nltk.tokenize import TweetTokenizer\n",
    "\n",
    "tweet_text = \"@abcd @pqrs NoSQL introduction - w3resource http://bit.ly/1ngHC5F  #nosql #database #webdev\"\n",
    "\n",
    "tknzr = TweetTokenizer(strip_handles=True)\n",
    "abc = tknzr.tokenize(tweet_text)\n",
    "print(abc)\n"
   ]
  },
  {
   "cell_type": "markdown",
   "metadata": {},
   "source": [
    "### 8. Write a Python NLTK program that will read a given text through each line and look for sentences. Print each sentence and divide two sentences with \"==============\"."
   ]
  },
  {
   "cell_type": "code",
   "execution_count": 37,
   "metadata": {},
   "outputs": [
    {
     "name": "stdout",
     "output_type": "stream",
     "text": [
      "Cows are eating grass.\n",
      "===============\n",
      "Cows are eating grass.\n",
      "===============\n",
      "Cows are eating grass.\n",
      "===============\n"
     ]
    }
   ],
   "source": [
    "from nltk.tokenize import sent_tokenize\n",
    "\n",
    "text = \"Cows are eating grass. Cows are eating grass. Cows are eating grass.\"\n",
    "\n",
    "def text_split(text):\n",
    "    sent_tokens = sent_tokenize(text)\n",
    "    for s in sent_tokens:\n",
    "        print(s)\n",
    "        print('='*15)\n",
    "\n",
    "text_split(text)"
   ]
  },
  {
   "cell_type": "code",
   "execution_count": 40,
   "metadata": {},
   "outputs": [
    {
     "name": "stdout",
     "output_type": "stream",
     "text": [
      "ten====one====eight.\n"
     ]
    }
   ],
   "source": [
    "abc = 'ten. one. eight.'\n",
    "print(\"====\".join(abc.split('. ')))"
   ]
  },
  {
   "cell_type": "code",
   "execution_count": 42,
   "metadata": {},
   "outputs": [
    {
     "name": "stdout",
     "output_type": "stream",
     "text": [
      "\n",
      "Original Tweet:\n",
      "\n",
      "Mr. Smith waited for the train. (The train was late.)\n",
      "Mary and Samantha took the bus. I looked for Mary and\n",
      "Samantha at the bus station [Sector-1].\n",
      "\n",
      "Mr. Smith waited for the train.\n",
      "==============\n",
      "(The train was late.)\n",
      "==============\n",
      "Mary and Samantha took the bus.\n",
      "==============\n",
      "I looked for Mary and\n",
      "Samantha at the bus station [Sector-1].\n"
     ]
    }
   ],
   "source": [
    "import nltk.data\n",
    "text = '''\n",
    "Mr. Smith waited for the train. (The train was late.)\n",
    "Mary and Samantha took the bus. I looked for Mary and\n",
    "Samantha at the bus station [Sector-1].\n",
    "'''\n",
    "print(\"\\nOriginal Tweet:\")\n",
    "print(text)\n",
    "sent_detector = nltk.data.load('tokenizers/punkt/english.pickle')\n",
    "\n",
    "# .strip() removes leading/trailing whitespace\n",
    "# .join() concatenates the sentences with a newline between them\n",
    "\n",
    "print('\\n==============\\n'.join(sent_detector.tokenize(text.strip())))"
   ]
  },
  {
   "cell_type": "markdown",
   "metadata": {},
   "source": [
    "### 9. Write a Python NLTK program to find parenthesized expressions in a given string and divides the string into a sequence of substrings. "
   ]
  },
  {
   "cell_type": "code",
   "execution_count": 44,
   "metadata": {},
   "outputs": [
    {
     "name": "stdout",
     "output_type": "stream",
     "text": [
      "(a b (c d))\n",
      "e\n",
      "f\n",
      "(g)\n"
     ]
    }
   ],
   "source": [
    "from nltk.tokenize import SExprTokenizer\n",
    "text = '(a b (c d)) e f (g)'\n",
    "\n",
    "abc = SExprTokenizer().tokenize(text)\n",
    "for i in abc:\n",
    "    print(i)"
   ]
  }
 ],
 "metadata": {
  "kernelspec": {
   "display_name": "Python 3",
   "language": "python",
   "name": "python3"
  },
  "language_info": {
   "codemirror_mode": {
    "name": "ipython",
    "version": 3
   },
   "file_extension": ".py",
   "mimetype": "text/x-python",
   "name": "python",
   "nbconvert_exporter": "python",
   "pygments_lexer": "ipython3",
   "version": "3.10.12"
  }
 },
 "nbformat": 4,
 "nbformat_minor": 2
}
